{
 "cells": [
  {
   "cell_type": "code",
   "execution_count": 27,
   "metadata": {},
   "outputs": [],
   "source": [
    "import pickle as pk\n",
    "import matplotlib.pyplot as plt\n",
    "import numpy as np\n",
    "import matplotlib.patches as mpatches\n",
    "import os\n",
    "\n",
    "result_random_file = \"w_test_features=True_label_balance=False_results.p\"\n",
    "result_greedy_file = \"w_test_features=False_label_balance=Greedy_noise=0.01_results.p\"\n",
    "\n",
    "files = [result_greedy_file,\n",
    "        result_random_file\n",
    "       ]\n",
    "stats_dict = {}"
   ]
  },
  {
   "cell_type": "code",
   "execution_count": 28,
   "metadata": {},
   "outputs": [],
   "source": [
    "for file in  files:\n",
    "    try:\n",
    "        with open(file, 'rb') as f:\n",
    "            stats_dict[file] = pk.load(f, encoding='latin1')\n",
    "    except Exception as e:\n",
    "        print(e)\n",
    "        print(\"No \" + tuple_var_file[0])\n",
    "        \n",
    "results = stats_dict[files[0]]['results']\n",
    "results_random = stats_dict[files[1]]['results']\n"
   ]
  },
  {
   "cell_type": "code",
   "execution_count": 29,
   "metadata": {},
   "outputs": [],
   "source": [
    "def get_split_data(data,prefix_keys=''):\n",
    "    data_plot_dict = {}\n",
    "    for tup in data:\n",
    "        if prefix_keys + tup[0] in data_plot_dict:\n",
    "            data_plot_dict[prefix_keys + tup[0]]['x'].append(tup[1])\n",
    "            data_plot_dict[prefix_keys + tup[0]]['y'].append(tup[2])\n",
    "            data_plot_dict[prefix_keys + tup[0]]['err'].append(tup[3])\n",
    "        else:\n",
    "            data_plot_dict[prefix_keys + tup[0]] = {'x':[tup[1]], 'y':[tup[2]] ,'err':[tup[3]]}\n",
    "        \n",
    "    return data_plot_dict\n",
    "\n",
    "blue_patch = mpatches.Patch(color='blue', label='greedy gcnn')\n",
    "red_patch = mpatches.Patch(color='red', label='random gcnn')\n",
    "yellow_patch = mpatches.Patch(color='yellow', label='dense nn')\n",
    "cyan_patch = mpatches.Patch(color='cyan', label='k-nn')\n",
    "green_patch = mpatches.Patch(color='green', label='sampled gcnn Idenity')\n",
    "black_patch = mpatches.Patch(color='black', label='gcnn Identity')\n",
    "\n",
    "plot_dict_display = {'dense':('y',yellow_patch),\n",
    "                     'gcn':('b',blue_patch),\n",
    "                     'random_gcn':('r',red_patch),\n",
    "                     'I_gcn':('k',black_patch),\n",
    "                     'I_gcn_subsampled':('g',green_patch),\n",
    "                     'k-nn':('c',cyan_patch)}\n",
    "\n",
    "\n",
    "def plot_test(title, save_file,data_plot_dict, line_display_option='o-'):\n",
    "    handles = []\n",
    "    for model_to_plot in data_plot_dict.keys():\n",
    "        display = plot_dict_display[model_to_plot][0]+line_display_option\n",
    "        plt.errorbar(data_plot_dict[model_to_plot]['x'], data_plot_dict[model_to_plot]['y'],data_plot_dict[model_to_plot]['err'], fmt=display)\n",
    "        handles.append(plot_dict_display[model_to_plot][1])\n",
    "    plt.legend(handles=handles,loc=4)\n",
    "    plt.plot(23,0.81,'ko')\n",
    "    plt.xlabel('known labels of training set %')\n",
    "    plt.ylabel('test accuracy')\n",
    "    plt.title(title)\n",
    "    plt.grid(True)\n",
    "    plt.savefig(os.path.join('../report',save_file), bbox_inches=\"tight\")\n",
    "    \n"
   ]
  },
  {
   "cell_type": "code",
   "execution_count": 30,
   "metadata": {},
   "outputs": [
    {
     "data": {
      "image/png": "[encoded data removed]",
      "text/plain": [
       "<matplotlib.figure.Figure at 0x7f134325b668>"
      ]
     },
     "metadata": {},
     "output_type": "display_data"
    }
   ],
   "source": [
    "\n",
    "dict_plot = get_split_data(results)\n",
    "dict_plot.update(get_split_data(results_random, prefix_keys=\"random_\"))\n",
    "plot_test('Accuracy with noise = 100','greedy_GCN_100.png',dict_plot)\n"
   ]
  },
  {
   "cell_type": "code",
   "execution_count": null,
   "metadata": {},
   "outputs": [],
   "source": []
  },
  {
   "cell_type": "code",
   "execution_count": null,
   "metadata": {},
   "outputs": [],
   "source": []
  }
 ],
 "metadata": {
  "kernelspec": {
   "display_name": "Python 3",
   "language": "python",
   "name": "python3"
  },
  "language_info": {
   "codemirror_mode": {
    "name": "ipython",
    "version": 3
   },
   "file_extension": ".py",
   "mimetype": "text/x-python",
   "name": "python",
   "nbconvert_exporter": "python",
   "pygments_lexer": "ipython3",
   "version": "3.5.2"
  }
 },
 "nbformat": 4,
 "nbformat_minor": 2
}
