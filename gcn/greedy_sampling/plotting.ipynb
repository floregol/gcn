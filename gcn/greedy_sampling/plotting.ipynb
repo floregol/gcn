{
 "cells": [
  {
   "cell_type": "code",
   "execution_count": null,
   "metadata": {},
   "outputs": [],
   "source": []
  },
  {
   "cell_type": "code",
   "execution_count": 1,
   "metadata": {},
   "outputs": [],
   "source": [
    "import pickle as pk\n",
    "import matplotlib.pyplot as plt\n",
    "import os\n",
    "import numpy as np\n",
    "result_file_low = 'results_100.0.p'\n",
    "result_file_high = 'results_0.01.p'\n",
    "\n",
    "with open(result_file_low, 'rb') as f:\n",
    "        results_low = pk.load(f, encoding='latin1')\n",
    "        \n",
    "with open(result_file_high, 'rb') as f:\n",
    "        results_high = pk.load(f, encoding='latin1')\n",
    "\n",
    "def histo_plot(filname, title, list_histo):\n",
    "    bins = 50\n",
    "\n",
    "    alpha_val = 0.4\n",
    "    n, bins, patches = plt.hist([i[0] for i in list_histo], bins,color=[i[1] for i in list_histo] , alpha=alpha_val)\n",
    "#     for histo in list_histo:\n",
    "#         n, bins, patches = plt.hist(histo[0], bins,color=histo[1] , alpha=alpha_val)\n",
    "\n",
    "    plt.ylabel('Count')\n",
    "    plt.title(title)\n",
    "    \n",
    "    plt.grid(True)\n",
    "\n",
    "    plt.savefig(os.path.join('histograms',filname))\n",
    "#     plt.show()\n",
    "    plt.close()\n",
    "for result_index, filename, title in [(0,'Erdos_Renyi_high.png','Erdos-Renyi'),\n",
    "                                      (1,\"Pref_Attachment_high.png\",\"Pref. Attachment\"),\n",
    "                                      (2,\"Random_high.png\",\"Random\")]:\n",
    "    resuls_dit =  results_high['results'][result_index]\n",
    "    list_histo = [(resuls_dit['random_leverage'], 'g'),(resuls_dit['uniform_random'], 'b'),\n",
    "                  (resuls_dit['greedy'], 'r'),(resuls_dit['deterministic'], 'k')]\n",
    "    histo_plot(filename,title, list_histo)   \n",
    "\n",
    "for result_index, filename, title in [\n",
    "        (0,'Erdos_Renyi_low.png','Erdos-Renyi'),\n",
    "                                      (1,\"Pref_Attachment_low.png\",\"Pref. Attachment\"),\n",
    "                                      (2,\"Random_low.png\",\"Random\")]:\n",
    "    resuls_dit =  results_low['results'][result_index]\n",
    "\n",
    "    list_histo = [(resuls_dit['random_leverage'], 'g'),(resuls_dit['deterministic'], 'k'),(resuls_dit['uniform_random'], 'b'),\n",
    "                  (resuls_dit['greedy'], 'r')]\n",
    "    histo_plot(filename,title, list_histo)\n",
    "    \n",
    "    \n"
   ]
  },
  {
   "cell_type": "code",
   "execution_count": 2,
   "metadata": {},
   "outputs": [
    {
     "name": "stdout",
     "output_type": "stream",
     "text": [
      "400\n"
     ]
    }
   ],
   "source": [
    "\n",
    "print(len(results_low['results'][0]['random_leverage']))\n",
    "\n",
    "\n"
   ]
  },
  {
   "cell_type": "code",
   "execution_count": 16,
   "metadata": {},
   "outputs": [
    {
     "ename": "NameError",
     "evalue": "name 'a' is not defined",
     "output_type": "error",
     "traceback": [
      "\u001b[0;31m---------------------------------------------------------------------------\u001b[0m",
      "\u001b[0;31mNameError\u001b[0m                                 Traceback (most recent call last)",
      "\u001b[0;32m<ipython-input-16-9e857dc52dd0>\u001b[0m in \u001b[0;36m<module>\u001b[0;34m()\u001b[0m\n\u001b[1;32m     10\u001b[0m \u001b[0max1\u001b[0m\u001b[0;34m.\u001b[0m\u001b[0mset_aspect\u001b[0m\u001b[0;34m(\u001b[0m\u001b[0;36m1\u001b[0m\u001b[0;34m)\u001b[0m\u001b[0;34m\u001b[0m\u001b[0m\n\u001b[1;32m     11\u001b[0m \u001b[0max1\u001b[0m\u001b[0;34m.\u001b[0m\u001b[0mset_ylabel\u001b[0m\u001b[0;34m(\u001b[0m\u001b[0;34m'Count'\u001b[0m\u001b[0;34m)\u001b[0m\u001b[0;34m\u001b[0m\u001b[0m\n\u001b[0;32m---> 12\u001b[0;31m \u001b[0max1\u001b[0m\u001b[0;34m.\u001b[0m\u001b[0mhist\u001b[0m\u001b[0;34m(\u001b[0m\u001b[0ma\u001b[0m\u001b[0;34m[\u001b[0m\u001b[0;36m0\u001b[0m\u001b[0;34m]\u001b[0m\u001b[0;34m[\u001b[0m\u001b[0;34m'greedy'\u001b[0m\u001b[0;34m]\u001b[0m\u001b[0;34m,\u001b[0m \u001b[0mbins\u001b[0m\u001b[0;34m=\u001b[0m\u001b[0mn_bins\u001b[0m\u001b[0;34m,\u001b[0m \u001b[0malpha\u001b[0m\u001b[0;34m=\u001b[0m\u001b[0malpha_val\u001b[0m\u001b[0;34m,\u001b[0m \u001b[0mcolor\u001b[0m\u001b[0;34m=\u001b[0m\u001b[0;34m'r'\u001b[0m\u001b[0;34m)\u001b[0m\u001b[0;34m\u001b[0m\u001b[0m\n\u001b[0m\u001b[1;32m     13\u001b[0m \u001b[0max1\u001b[0m\u001b[0;34m.\u001b[0m\u001b[0mhist\u001b[0m\u001b[0;34m(\u001b[0m\u001b[0ma\u001b[0m\u001b[0;34m[\u001b[0m\u001b[0;36m0\u001b[0m\u001b[0;34m]\u001b[0m\u001b[0;34m[\u001b[0m\u001b[0;34m'deterministic'\u001b[0m\u001b[0;34m]\u001b[0m\u001b[0;34m,\u001b[0m \u001b[0mbins\u001b[0m\u001b[0;34m=\u001b[0m\u001b[0mn_bins\u001b[0m\u001b[0;34m,\u001b[0m \u001b[0malpha\u001b[0m\u001b[0;34m=\u001b[0m\u001b[0malpha_val\u001b[0m\u001b[0;34m,\u001b[0m\u001b[0mcolor\u001b[0m\u001b[0;34m=\u001b[0m\u001b[0;34m'k'\u001b[0m\u001b[0;34m)\u001b[0m\u001b[0;34m\u001b[0m\u001b[0m\n\u001b[1;32m     14\u001b[0m \u001b[0max1\u001b[0m\u001b[0;34m.\u001b[0m\u001b[0mhist\u001b[0m\u001b[0;34m(\u001b[0m\u001b[0ma\u001b[0m\u001b[0;34m[\u001b[0m\u001b[0;36m0\u001b[0m\u001b[0;34m]\u001b[0m\u001b[0;34m[\u001b[0m\u001b[0;34m'random_leverage'\u001b[0m\u001b[0;34m]\u001b[0m\u001b[0;34m,\u001b[0m \u001b[0mbins\u001b[0m\u001b[0;34m=\u001b[0m\u001b[0mn_bins\u001b[0m\u001b[0;34m,\u001b[0m\u001b[0malpha\u001b[0m\u001b[0;34m=\u001b[0m\u001b[0malpha_val\u001b[0m\u001b[0;34m,\u001b[0m \u001b[0mcolor\u001b[0m\u001b[0;34m=\u001b[0m\u001b[0;34m'g'\u001b[0m\u001b[0;34m)\u001b[0m\u001b[0;34m\u001b[0m\u001b[0m\n",
      "\u001b[0;31mNameError\u001b[0m: name 'a' is not defined"
     ]
    },
    {
     "data": {
      "image/png": "[encoded data removed]",
      "text/plain": [
       "<matplotlib.figure.Figure at 0x7f6b36417978>"
      ]
     },
     "metadata": {},
     "output_type": "display_data"
    }
   ],
   "source": [
    "import numpy as np\n",
    "import matplotlib.pyplot as plt\n",
    "\n",
    "\n",
    "n_bins = 25\n",
    "alpha_val = 0.4\n",
    "\n",
    "fig, (ax1, ax2, ax3) = plt.subplots(1, 3, sharey=True)\n",
    "\n",
    "ax1.set_aspect(1)\n",
    "ax1.set_ylabel('Count')\n",
    "ax1.hist(a[0]['greedy'], bins=n_bins, alpha=alpha_val, color='r')\n",
    "ax1.hist(a[0]['deterministic'], bins=n_bins, alpha=alpha_val,color='k')\n",
    "ax1.hist(a[0]['random_leverage'], bins=n_bins,alpha=alpha_val, color='g')\n",
    "ax1.hist(a[0]['uniform_random'], bins=n_bins,alpha=alpha_val, color='b')\n",
    "ax1.set_title(\"Erdos-Renyi\")\n",
    "\n",
    "ax2.set_aspect(1)\n",
    "ax2.set_ylabel('Count')\n",
    "ax2.hist(a[1]['greedy'], bins=n_bins, alpha=alpha_val, color='r')\n",
    "ax2.hist(a[1]['deterministic'], bins=n_bins, alpha=alpha_val,color='k')\n",
    "ax2.hist(a[1]['random_leverage'], bins=n_bins,alpha=alpha_val, color='g')\n",
    "ax2.hist(a[1]['uniform_random'], bins=n_bins,alpha=alpha_val, color='b')\n",
    "ax2.set_title(\"Pref. Attachment\")\n",
    "\n",
    "\n",
    "ax3.set_aspect(1)\n",
    "\n",
    "ax3.set_title(\"Random\")\n",
    "\n",
    "\n",
    "\n",
    "# ax2.title.set_rasterized(True) # should display a warning\n",
    "\n",
    "fig.tight_layout()\n",
    "plt.subplots_adjust(top=0.92, bottom=0.08, left=0.10, right=3, hspace=0.5, wspace=0.3)\n",
    "plt.savefig(\"test_rasterization.png\", dpi=150)\n",
    "\n",
    "# if not plt.rcParams[\"text.usetex\"]:\n",
    "#     plt.savefig(\"test_rasterization.svg\", dpi=150)\n",
    "#     # svg backend currently ignores the dpi"
   ]
  },
  {
   "cell_type": "code",
   "execution_count": null,
   "metadata": {},
   "outputs": [],
   "source": []
  },
  {
   "cell_type": "code",
   "execution_count": null,
   "metadata": {},
   "outputs": [],
   "source": []
  }
 ],
 "metadata": {
  "kernelspec": {
   "display_name": "Python 3",
   "language": "python",
   "name": "python3"
  },
  "language_info": {
   "codemirror_mode": {
    "name": "ipython",
    "version": 3
   },
   "file_extension": ".py",
   "mimetype": "text/x-python",
   "name": "python",
   "nbconvert_exporter": "python",
   "pygments_lexer": "ipython3",
   "version": "3.5.2"
  }
 },
 "nbformat": 4,
 "nbformat_minor": 2
}
