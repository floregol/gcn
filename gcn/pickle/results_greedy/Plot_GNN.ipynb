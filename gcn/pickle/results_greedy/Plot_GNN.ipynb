{
 "cells": [
  {
   "cell_type": "code",
   "execution_count": 28,
   "metadata": {},
   "outputs": [
    {
     "name": "stdout",
     "output_type": "stream",
     "text": [
      "['w_test_features=True_label_balance=False_results.p', 'K_sparsity=5_label_balance=Greedy_noise=0.01_results.p', 'K_sparsity=5_label_balance=Greedy_noise=1_results.p', 'K_sparsity=5_label_balance=Greedy_noise=100_results.p', 'K_sparsity=10_label_balance=Greedy_noise=0.01_results.p', 'K_sparsity=10_label_balance=Greedy_noise=1_results.p', 'K_sparsity=10_label_balance=Greedy_noise=100_results.p']\n"
     ]
    }
   ],
   "source": [
    "import pickle as pk\n",
    "import matplotlib.pyplot as plt\n",
    "import numpy as np\n",
    "import matplotlib.patches as mpatches\n",
    "import os\n",
    "\n",
    "result_random_file = \"w_test_features=True_label_balance=False_results.p\"\n",
    "files = [result_random_file]\n",
    "\n",
    "for k_sparse in ['5','10']:\n",
    "    for noise in ['0.01','1','100']:\n",
    "        files.append(\"K_sparsity=\"+k_sparse+\"_label_balance=Greedy_noise=\"+noise+\"_results.p\")\n",
    "\n",
    "print(files)\n",
    "stats_dict = {}"
   ]
  },
  {
   "cell_type": "code",
   "execution_count": 29,
   "metadata": {},
   "outputs": [],
   "source": [
    "for file in  files:\n",
    "    try:\n",
    "        with open(file, 'rb') as f:\n",
    "            stats_dict[file] = pk.load(f, encoding='latin1')\n",
    "    except Exception as e:\n",
    "        print(e)\n",
    "        print(\"No \" + tuple_var_file[0])\n",
    "        \n",
    "results_random = stats_dict[files[0]]['results']\n",
    "#results_random = stats_dict[files[1]]['results']\n"
   ]
  },
  {
   "cell_type": "code",
   "execution_count": 35,
   "metadata": {},
   "outputs": [],
   "source": [
    "def get_split_data(data,prefix_keys=''):\n",
    "    data_plot_dict = {}\n",
    "    for tup in data:\n",
    "        if prefix_keys + tup[0] in data_plot_dict:\n",
    "            data_plot_dict[prefix_keys + tup[0]]['x'].append(tup[1])\n",
    "            data_plot_dict[prefix_keys + tup[0]]['y'].append(tup[2])\n",
    "            data_plot_dict[prefix_keys + tup[0]]['err'].append(tup[3])\n",
    "        else:\n",
    "            data_plot_dict[prefix_keys + tup[0]] = {'x':[tup[1]], 'y':[tup[2]] ,'err':[tup[3]]}\n",
    "        \n",
    "    return data_plot_dict\n",
    "\n",
    "blue_patch = mpatches.Patch(color='blue', label='noise = 0.01')\n",
    "red_patch = mpatches.Patch(color='red', label='random gcnn')\n",
    "black_patch = mpatches.Patch(color='black', label='noise = 1')\n",
    "cyan_patch = mpatches.Patch(color='cyan', label='noise = 100')\n",
    "\n",
    "plot_dict_display = {'0.01_gcn':('b',blue_patch),\n",
    "                     'random_gcn':('r',red_patch),\n",
    "                     '1_gcn':('k',black_patch),\n",
    "                     '100_gcn':('c',cyan_patch)}\n",
    "\n",
    "\n",
    "def plot_test(title, save_file,data_plot_dict, line_display_option='o-'):\n",
    "    handles = []\n",
    "    for model_to_plot in data_plot_dict.keys():\n",
    "        display = plot_dict_display[model_to_plot][0]+line_display_option\n",
    "        plt.errorbar(data_plot_dict[model_to_plot]['x'], data_plot_dict[model_to_plot]['y'],data_plot_dict[model_to_plot]['err'], fmt=display)\n",
    "        handles.append(plot_dict_display[model_to_plot][1])\n",
    "    plt.legend(handles=handles,loc=4)\n",
    "    plt.plot(23,0.81,'ko')\n",
    "    plt.xlabel('known labels of training set %')\n",
    "    plt.ylabel('test accuracy')\n",
    "    #plt.title(title)\n",
    "    plt.grid(True)\n",
    "    plt.savefig(os.path.join('../report',save_file), bbox_inches=\"tight\")\n",
    "    \n"
   ]
  },
  {
   "cell_type": "code",
   "execution_count": 37,
   "metadata": {},
   "outputs": [
    {
     "name": "stdout",
     "output_type": "stream",
     "text": [
      "{'random_gcn': {'err': [0.04974162816071976, 0.016572320361995501, 0.0065604970843990747, 0.00665133577000219, 0.0045782279087629909, 0.0058309565561438957, 0.0032863583283841637], 'y': [0.71359912157058714, 0.78939903974533077, 0.82159912586212158, 0.82239912748336796, 0.84379919767379763, 0.86199923753738406, 0.87199926376342773], 'x': [4, 9, 14, 19, 29, 50, 75]}, '1_gcn': {'err': [0.0, 0.0, 0.0, 0.0, 0.0, 0.0, 0.0, 0.0, 0.0, 0.0, 0.0], 'y': [0.68399918079376221, 0.76499903202056885, 0.79799908399581909, 0.80799907445907593, 0.81899911165237427, 0.83699917793273926, 0.8479992151260376, 0.84999918937683105, 0.86499923467636108, 0.86199921369552612, 0.85699921846389771], 'x': [3, 6, 10, 13, 18, 24, 29, 34, 41, 45, 51]}, '100_gcn': {'err': [0.0, 0.0, 0.0, 0.0, 0.0, 0.0, 0.0, 0.0, 0.0, 0.0, 0.0], 'y': [0.60199940204620361, 0.75399899482727051, 0.80299907922744751, 0.80799907445907593, 0.81799912452697754, 0.83699917793273926, 0.84999918937683105, 0.84999918937683105, 0.86499923467636108, 0.86199921369552612, 0.85799920558929443], 'x': [3, 6, 10, 13, 19, 24, 29, 34, 41, 45, 51]}, '0.01_gcn': {'err': [0.0, 0.0, 0.0, 0.0, 0.0, 0.0, 0.0, 0.0, 0.0, 0.0, 0.0], 'y': [0.69199913740158081, 0.76799905300140381, 0.78799903392791748, 0.80199909210205078, 0.82399910688400269, 0.83699917793273926, 0.8479992151260376, 0.85099923610687256, 0.86599928140640259, 0.86199921369552612, 0.85699921846389771], 'x': [3, 6, 9, 12, 18, 24, 28, 34, 41, 45, 51]}}\n"
     ]
    },
    {
     "data": {
      "image/png": "[encoded data removed]",
      "text/plain": [
       "<matplotlib.figure.Figure at 0x7ff405c485f8>"
      ]
     },
     "metadata": {},
     "output_type": "display_data"
    }
   ],
   "source": [
    "\n",
    "dict_plot = get_split_data(results_random, prefix_keys=\"random_\")\n",
    "i = 1\n",
    "for k_sparse in ['5']:\n",
    "    for noise in ['0.01','1','100']:\n",
    "        dict_plot.update(get_split_data(stats_dict[files[i]]['results'], prefix_keys=noise+\"_\"))\n",
    "        i+=1\n",
    "print(dict_plot)\n",
    "\n",
    "plot_test('Accuracy Random Sampling vs Greedy with Ksparsity=5','greedy_GCN_5.png',dict_plot)\n"
   ]
  },
  {
   "cell_type": "code",
   "execution_count": null,
   "metadata": {},
   "outputs": [],
   "source": []
  },
  {
   "cell_type": "code",
   "execution_count": null,
   "metadata": {},
   "outputs": [],
   "source": []
  }
 ],
 "metadata": {
  "kernelspec": {
   "display_name": "Python 3",
   "language": "python",
   "name": "python3"
  },
  "language_info": {
   "codemirror_mode": {
    "name": "ipython",
    "version": 3
   },
   "file_extension": ".py",
   "mimetype": "text/x-python",
   "name": "python",
   "nbconvert_exporter": "python",
   "pygments_lexer": "ipython3",
   "version": "3.5.2"
  }
 },
 "nbformat": 4,
 "nbformat_minor": 2
}
